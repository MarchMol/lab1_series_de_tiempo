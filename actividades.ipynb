{
 "cells": [
  {
   "cell_type": "markdown",
   "id": "0009f9b4",
   "metadata": {},
   "source": [
    "# Data Science - Laboratorio 1 - Series de tiempo\n",
    "\n",
    "Sofia Velasquez 22049\n",
    "\n",
    "José Marchena 22398"
   ]
  },
  {
   "cell_type": "markdown",
   "id": "a4acabce",
   "metadata": {},
   "source": [
    "#### 0. Obtencion de datos"
   ]
  },
  {
   "cell_type": "code",
   "execution_count": 7,
   "id": "bbc305e3",
   "metadata": {},
   "outputs": [
    {
     "name": "stdout",
     "output_type": "stream",
     "text": [
      "(365, 2)\n",
      "(108, 2)\n",
      "(240, 2)\n",
      "(36, 2)\n"
     ]
    }
   ],
   "source": [
    "import numpy as np\n",
    "import pandas as pd\n",
    "\n",
    "female_births = pd.read_csv('./data/daily-total-female-births.csv')\n",
    "car_sales = pd.read_csv('./data/monthly-car-sales.csv')\n",
    "mean_temp = pd.read_csv('./data/monthly-mean-temp.csv')\n",
    "shampoo = pd.read_csv('./data/shampoo.csv')\n",
    "\n",
    "print(female_births.shape)\n",
    "print(car_sales.shape)\n",
    "print(mean_temp.shape)\n",
    "print(shampoo.shape)"
   ]
  }
 ],
 "metadata": {
  "kernelspec": {
   "display_name": "Python 3",
   "language": "python",
   "name": "python3"
  },
  "language_info": {
   "codemirror_mode": {
    "name": "ipython",
    "version": 3
   },
   "file_extension": ".py",
   "mimetype": "text/x-python",
   "name": "python",
   "nbconvert_exporter": "python",
   "pygments_lexer": "ipython3",
   "version": "3.12.2"
  }
 },
 "nbformat": 4,
 "nbformat_minor": 5
}
